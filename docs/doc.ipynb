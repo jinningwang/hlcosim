{
 "cells": [
  {
   "cell_type": "code",
   "execution_count": 1,
   "metadata": {},
   "outputs": [],
   "source": [
    "import svgwrite"
   ]
  },
  {
   "cell_type": "code",
   "execution_count": 4,
   "metadata": {},
   "outputs": [
    {
     "data": {
      "image/svg+xml": [
       "<text x=\"50\" y=\"50\">Hello, World!</text>"
      ],
      "text/plain": [
       "<svgwrite.text.Text at 0x7f8cf80dee90>"
      ]
     },
     "execution_count": 4,
     "metadata": {},
     "output_type": "execute_result"
    }
   ],
   "source": [
    "# Create a new SVG image\n",
    "dwg = svgwrite.Drawing('example.svg', profile='full')\n",
    "\n",
    "# Add a rectangle to the image\n",
    "dwg.add(dwg.rect((10, 10), (100, 100), fill='red'))\n",
    "\n",
    "# Add some text to the image\n",
    "dwg.add(dwg.text('Hello, World!', insert=(50, 50)))"
   ]
  },
  {
   "cell_type": "code",
   "execution_count": 7,
   "metadata": {},
   "outputs": [
    {
     "data": {
      "image/svg+xml": [
       "<svg baseProfile=\"full\" height=\"100%\" version=\"1.1\" width=\"100%\" xmlns=\"http://www.w3.org/2000/svg\" xmlns:ev=\"http://www.w3.org/2001/xml-events\" xmlns:xlink=\"http://www.w3.org/1999/xlink\"><defs /><rect fill=\"red\" height=\"100\" width=\"100\" x=\"10\" y=\"10\" /><text x=\"50\" y=\"50\">Hello, World!</text></svg>"
      ],
      "text/plain": [
       "<svgwrite.drawing.Drawing at 0x7f8cf80df070>"
      ]
     },
     "execution_count": 7,
     "metadata": {},
     "output_type": "execute_result"
    }
   ],
   "source": [
    "dwg"
   ]
  }
 ],
 "metadata": {
  "kernelspec": {
   "display_name": "hlc",
   "language": "python",
   "name": "python3"
  },
  "language_info": {
   "codemirror_mode": {
    "name": "ipython",
    "version": 3
   },
   "file_extension": ".py",
   "mimetype": "text/x-python",
   "name": "python",
   "nbconvert_exporter": "python",
   "pygments_lexer": "ipython3",
   "version": "3.10.10"
  },
  "orig_nbformat": 4
 },
 "nbformat": 4,
 "nbformat_minor": 2
}
