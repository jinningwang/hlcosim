{
 "cells": [
  {
   "cell_type": "markdown",
   "metadata": {},
   "source": [
    "## Hardware Testbed and Large-scale Testbed Co-simulation"
   ]
  },
  {
   "cell_type": "markdown",
   "metadata": {},
   "source": [
    "## Co-Simulation"
   ]
  },
  {
   "cell_type": "code",
   "execution_count": 1,
   "metadata": {},
   "outputs": [
    {
     "name": "stdout",
     "output_type": "stream",
     "text": [
      "1.8.6.post11.dev0+ga8ccd79c\n"
     ]
    }
   ],
   "source": [
    "# --- imports ---\n",
    "\n",
    "import os\n",
    "import subprocess\n",
    "\n",
    "import time\n",
    "import logging\n",
    "logger = logging.getLogger(__name__)\n",
    "\n",
    "import csv\n",
    "import time, datetime\n",
    "import numpy as np\n",
    "import matplotlib.pyplot as plt\n",
    "import pandas as pd\n",
    "\n",
    "import andes\n",
    "andes.config_logger(30)\n",
    "print(andes.__version__)\n",
    "\n",
    "%matplotlib inline\n",
    "\n",
    "# --- set logging level ---\n",
    "# logger.setLevel(logging.WARNING)\n",
    "from core_io import data_read, data_write, io_config, cs_stat, cs_config, cs_col"
   ]
  },
  {
   "cell_type": "code",
   "execution_count": 2,
   "metadata": {},
   "outputs": [],
   "source": [
    "cs_config['t_total'] = 5000"
   ]
  },
  {
   "cell_type": "code",
   "execution_count": 3,
   "metadata": {},
   "outputs": [],
   "source": [
    "andes.config_logger(stream_level=20)"
   ]
  },
  {
   "cell_type": "code",
   "execution_count": 4,
   "metadata": {},
   "outputs": [],
   "source": [
    "\n",
    "is_test = False\n",
    "rflie = 'datar.txt'\n",
    "wfile = 'dataw.txt'\n",
    "if is_test:\n",
    "    rflie = 't' + rflie"
   ]
  },
  {
   "cell_type": "markdown",
   "metadata": {},
   "source": [
    "### Co-Simulation"
   ]
  },
  {
   "cell_type": "code",
   "execution_count": 5,
   "metadata": {
    "scrolled": true
   },
   "outputs": [
    {
     "name": "stderr",
     "output_type": "stream",
     "text": [
      "LTB case: ieee39_htb.xlsx.\n",
      "HTB is set to LTB load PQ_2, connected to LTB bus 4.\n",
      "LTB setup completed.\n"
     ]
    }
   ],
   "source": [
    "\n",
    "# --- Pre Process ---\n",
    "# --- set path ---\n",
    "path_proj = os.getcwd()\n",
    "path_case = os.path.join(path_proj, 'case')\n",
    "path_data = os.path.join(path_proj, 'data')\n",
    "path_ltb = os.path.join(path_proj, 'core_ltb.py')\n",
    "filer = os.path.join(path_data, rflie)\n",
    "filew = os.path.join(path_data, wfile)\n",
    "path_ehtb = os.path.join(path_data, 'ehtb.py')\n",
    "path_out = os.path.join(os.path.abspath('..'), 'output')\n",
    "\n",
    "case1 = os.path.join(path_case, 'ieee14_htb.xlsx')\n",
    "case2 = os.path.join(path_case, 'pjm5_htb.xlsx')\n",
    "case3 = os.path.join(path_case, 'npcc_htb.xlsx')\n",
    "case4 = os.path.join(path_case, 'ieee39_htb.xlsx')\n",
    "\n",
    "# --- set case ---\n",
    "ss = andes.load(case4,\n",
    "                no_output=True,\n",
    "                default_config=False,\n",
    "                setup=False)\n",
    "\n",
    "#  --- HTB variables ---\n",
    "pq_htb = 'PQ_2'  # load represents for HTB\n",
    "bus_htb = ss.PQ.get(idx=pq_htb, src='bus', attr='v')  # get bus index of HTB\n",
    "bus_slack = ss.Slack.bus.v[0]  # get bus index of slack bus\n",
    "\n",
    "# add Bus Freq. Measurement to HTB bus\n",
    "ss.add('BusFreq', {'idx': 'BusFreq_HTB',\n",
    "                   'name': 'BusFreq_HTB',\n",
    "                   'bus': bus_htb,\n",
    "                   'Tf': 0.02,\n",
    "                   'Tw': 0.02,\n",
    "                   'fn': 60})\n",
    "ss.add('BusFreq', {'idx': 'BusFreq_Slack',\n",
    "                   'name': 'BusFreq_Slack',\n",
    "                   'bus': bus_slack,\n",
    "                   'Tf': 0.02,\n",
    "                   'Tw': 0.02,\n",
    "                   'fn': 60})\n",
    "\n",
    "# ss.add('Output', {'model': 'GENCLS',\n",
    "#                    'varname': 'omega'})\n",
    "# ss.add('Output', {'model': 'GENROU',\n",
    "#                    'varname': 'omega'})\n",
    "# ss.add('Output', {'model': 'Bus',\n",
    "#                    'varname': 'a'})\n",
    "# ss.add('Output', {'model': 'Bus',\n",
    "#                    'varname': 'v'})\n",
    "\n",
    "ss.setup()\n",
    "\n",
    "msg_ltb = f\"LTB case: {ss.files.case.split('/')[-1]}.\\n\"\n",
    "msg_htb = f\"HTB is set to LTB load {pq_htb}, connected to LTB bus {bus_htb}.\"\n",
    "logger.warning(msg_ltb + msg_htb)\n",
    "logger.warning(\"LTB setup completed.\")\n",
    "\n",
    "rows = np.ceil((cs_config['t_total'] - cs_config['ti']) / cs_config['t_step'])\n",
    "cs_num = -1 * np.ones((int(rows), len(cs_col)))\n",
    "\n",
    "const_freq = 2 * np.pi * ss.config.freq  # constant to calculate bus angle\n",
    "flag_init = True  # Flag to indicate the very first iteration\n",
    "flag_tc0 = True  # Flag to record `tc0`\n",
    "\n",
    "flag_datar = False  # Flag to indicate if data read is successful\n",
    "flag_dataw = False  # Flag to indicate if data write is successful\n",
    "\n",
    "flag_base = True  # Flag t0 update counter base\n",
    "\n",
    "# --- system initial conditions ---\n",
    "\n",
    "a0 = ss.Bus.get(idx=bus_slack, src='a', attr='v')  # initial slack bus angle\n",
    "p0 = ss.PQ.get(idx=pq_htb, src='p0', attr='v')  # initial HTB bus active power\n",
    "q0 = ss.PQ.get(idx=pq_htb, src='q0', attr='v')  # initial HTB bus reactive power\n",
    "\n",
    "ss.TDS.config.no_tqdm = 1  # turn off tqdm progress bar\n",
    "ss.TDS.config.criteria = 0  # turn off stability criteria\n",
    "\n",
    "# set constant power load\n",
    "ss.PQ.config.p2p = 1\n",
    "ss.PQ.config.q2q = 1\n",
    "ss.PQ.config.p2z = 0\n",
    "ss.PQ.config.q2z = 0\n",
    "ss.PQ.pq2z = 0\n"
   ]
  },
  {
   "cell_type": "code",
   "execution_count": 6,
   "metadata": {},
   "outputs": [
    {
     "data": {
      "text/plain": [
       "True"
      ]
     },
     "execution_count": 6,
     "metadata": {},
     "output_type": "execute_result"
    }
   ],
   "source": [
    "ss.PFlow.run()"
   ]
  },
  {
   "cell_type": "code",
   "execution_count": 7,
   "metadata": {
    "scrolled": false
   },
   "outputs": [
    {
     "name": "stderr",
     "output_type": "stream",
     "text": [
      "GENROU (vf range) out of typical lower limit.\n",
      "\n",
      "   idx     | values | limit\n",
      "-----------+--------+------\n",
      " GENROU_10 | 0.980  | 1    \n",
      "\n",
      "\n",
      "GENROU (xl <= xd2) out of typical upper limit.\n",
      "\n",
      "   idx     | values | limit\n",
      "-----------+--------+------\n",
      " GENROU_1  | 0.014  | 0.001\n",
      " GENROU_3  | 0.018  | 0.003\n",
      " GENROU_4  | 0.013  | 0.001\n",
      " GENROU_5  | 0.014  | 0.001\n",
      " GENROU_7  | 0.015  | 0.002\n",
      " GENROU_8  | 0.015  | 0.006\n",
      " GENROU_9  | 0.009  | 0.001\n",
      " GENROU_10 | 0.013  | 0.000\n",
      "\n",
      "\n"
     ]
    }
   ],
   "source": [
    "for end_time in np.arange(0, 20, 0.05):  # t_total\n",
    "    # run TDS\n",
    "    if end_time == 0:\n",
    "        continue\n",
    "    else:\n",
    "        # run TDS\n",
    "        ss.TDS.config.tf = end_time\n",
    "        ss.TDS.run()"
   ]
  },
  {
   "cell_type": "code",
   "execution_count": 8,
   "metadata": {},
   "outputs": [],
   "source": [
    "ss.TDS.system.streaming.dimec.close()"
   ]
  }
 ],
 "metadata": {
  "kernelspec": {
   "display_name": "Python 3 (ipykernel)",
   "language": "python",
   "name": "python3"
  },
  "language_info": {
   "codemirror_mode": {
    "name": "ipython",
    "version": 3
   },
   "file_extension": ".py",
   "mimetype": "text/x-python",
   "name": "python",
   "nbconvert_exporter": "python",
   "pygments_lexer": "ipython3",
   "version": "3.10.9"
  },
  "vscode": {
   "interpreter": {
    "hash": "f53e6703cb84454da2467a3cefedfe3271c8645aec7dab61336c0047a343c6a3"
   }
  }
 },
 "nbformat": 4,
 "nbformat_minor": 2
}
