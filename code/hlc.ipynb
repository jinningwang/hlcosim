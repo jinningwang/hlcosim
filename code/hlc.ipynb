{
 "cells": [
  {
   "cell_type": "markdown",
   "metadata": {},
   "source": [
    "## Hardware Testbed and Large-scale Testbed Co-simulation"
   ]
  },
  {
   "cell_type": "markdown",
   "metadata": {},
   "source": [
    "## Co-Simulation"
   ]
  },
  {
   "cell_type": "code",
   "execution_count": 1,
   "metadata": {},
   "outputs": [
    {
     "name": "stdout",
     "output_type": "stream",
     "text": [
      "1.7.7\n"
     ]
    }
   ],
   "source": [
    "# --- imports ---\n",
    "\n",
    "import os\n",
    "import subprocess\n",
    "\n",
    "import time\n",
    "import logging\n",
    "logger = logging.getLogger(__name__)\n",
    "\n",
    "import csv\n",
    "import time, datetime\n",
    "import numpy as np\n",
    "import matplotlib.pyplot as plt\n",
    "import pandas as pd\n",
    "\n",
    "import andes\n",
    "andes.config_logger(30)\n",
    "print(andes.__version__)\n",
    "\n",
    "%matplotlib inline\n",
    "\n",
    "# --- set logging level ---\n",
    "# logger.setLevel(logging.WARNING)\n",
    "from core_io import data_read, data_write, io_config, cs_stat, cs_config, cs_col"
   ]
  },
  {
   "cell_type": "code",
   "execution_count": 2,
   "metadata": {},
   "outputs": [],
   "source": [
    "\n",
    "is_test = False\n",
    "rflie = 'datar.txt'\n",
    "wfile = 'dataw.txt'\n",
    "if is_test:\n",
    "    rflie = 't' + rflie\n",
    "\n",
    "# --- set path ---\n",
    "path_proj = os.getcwd()\n",
    "path_case = os.path.join(path_proj, 'case')\n",
    "path_data = os.path.join(path_proj, 'data')\n",
    "path_ltb = os.path.join(path_proj, 'core_ltb.py')\n",
    "filer = os.path.join(path_data, rflie)\n",
    "filew = os.path.join(path_data, wfile)\n",
    "path_ehtb = os.path.join(path_data, 'ehtb.py')\n",
    "path_out = os.path.join(path_proj, 'output')\n",
    "\n",
    "case1 = os.path.join(path_case, 'ieee14_htb.xlsx')\n",
    "case2 = os.path.join(path_case, 'pjm5_htb.xlsx')\n",
    "case3 = os.path.join(path_case, 'npcc_htb.xlsx')"
   ]
  },
  {
   "cell_type": "markdown",
   "metadata": {},
   "source": [
    "### Co-Simulation"
   ]
  },
  {
   "cell_type": "code",
   "execution_count": 3,
   "metadata": {},
   "outputs": [
    {
     "name": "stderr",
     "output_type": "stream",
     "text": [
      "LTB case: C:\\CEPD00615\\hlcosim\\ltb\\case\\npcc_htb.xlsx.\n",
      "HTB is set to LTB load PQ_86, connected to LTB bus 131.\n",
      "LTB setup completed.\n",
      "GENCLS (vf range) out of typical lower limit.\n",
      "\n",
      "   idx     | values | limit\n",
      "-----------+--------+------\n",
      " GENCLS_3  | 0.990  | 1    \n",
      " GENCLS_4  | 0.926  | 1    \n",
      " GENCLS_16 | 0.933  | 1    \n",
      "\n",
      "\n",
      "Start HTB.\n",
      "Co-sim initialized.\n",
      "Counter update: k=100\n",
      "Counter update: k=200\n",
      "Counter update: k=300\n",
      "Counter update: k=400\n",
      "Counter update: k=500\n",
      "Counter update: k=600\n",
      "Counter update: k=700\n",
      "Counter update: k=800\n",
      "Counter update: k=900\n",
      "Counter update: k=1000\n",
      "Counter update: k=1100\n",
      "Counter update: k=1200\n",
      "Counter update: k=1300\n",
      "Counter update: k=1400\n",
      "Counter update: k=1500\n",
      "Counter update: k=1600\n",
      "Counter update: k=1700\n",
      "Counter update: k=1800\n",
      "Counter update: k=1900\n",
      "Counter update: k=2000\n",
      "Counter update: k=2100\n",
      "Counter update: k=2200\n",
      "Counter update: k=2300\n",
      "Counter update: k=2400\n",
      "Counter update: k=2500\n",
      "Counter update: k=2600\n",
      "Counter update: k=2700\n",
      "Counter update: k=2800\n",
      "Counter update: k=2900\n",
      "Counter update: k=3000\n",
      "Counter update: k=3100\n",
      "Counter update: k=3200\n",
      "Counter update: k=3300\n",
      "Counter update: k=3400\n",
      "Counter update: k=3500\n",
      "Counter update: k=3600\n",
      "Counter update: k=3700\n",
      "Counter update: k=3800\n",
      "Counter update: k=3900\n",
      "Co-sim finished.\n",
      "Co-sim data saved to folder: C:\\CEPD00615\\hlcosim\\output\n"
     ]
    }
   ],
   "source": [
    "\n",
    "# --- Pre Process ---\n",
    "# --- set path ---\n",
    "path_proj = os.getcwd()\n",
    "path_case = os.path.join(path_proj, 'case')\n",
    "path_data = os.path.join(path_proj, 'data')\n",
    "path_ltb = os.path.join(path_proj, 'core_ltb.py')\n",
    "filer = os.path.join(path_data, rflie)\n",
    "filew = os.path.join(path_data, wfile)\n",
    "path_ehtb = os.path.join(path_data, 'ehtb.py')\n",
    "path_out = os.path.join(os.path.abspath('..'), 'output')\n",
    "\n",
    "case1 = os.path.join(path_case, 'ieee14_htb.xlsx')\n",
    "case2 = os.path.join(path_case, 'pjm5_htb.xlsx')\n",
    "case3 = os.path.join(path_case, 'npcc_htb.xlsx')\n",
    "\n",
    "# --- set case ---\n",
    "ss = andes.load(case3,\n",
    "                no_output=True,\n",
    "                default_config=False,\n",
    "                setup=False)\n",
    "\n",
    "#  --- HTB variables ---\n",
    "pq_htb = 'PQ_86'  # load represents for HTB\n",
    "bus_htb = ss.PQ.get(idx=pq_htb, src='bus', attr='v')  # get bus index of HTB\n",
    "bus_slack = ss.Slack.bus.v[0]  # get bus index of slack bus\n",
    "\n",
    "# add Bus Freq. Measurement to HTB bus\n",
    "ss.add('BusFreq', {'idx': 'BusFreq_HTB',\n",
    "                   'name': 'BusFreq_HTB',\n",
    "                   'bus': bus_htb,\n",
    "                   'Tf': 0.02,\n",
    "                   'Tw': 0.02,\n",
    "                   'fn': 60})\n",
    "ss.add('BusFreq', {'idx': 'BusFreq_Slack',\n",
    "                   'name': 'BusFreq_Slack',\n",
    "                   'bus': bus_slack,\n",
    "                   'Tf': 0.02,\n",
    "                   'Tw': 0.02,\n",
    "                   'fn': 60})\n",
    "\n",
    "ss.add('Output', {'model': 'GENCLS',\n",
    "                   'varname': 'omega'})\n",
    "ss.add('Output', {'model': 'GENROU',\n",
    "                   'varname': 'omega'})\n",
    "ss.add('Output', {'model': 'Bus',\n",
    "                   'varname': 'a'})\n",
    "ss.add('Output', {'model': 'Bus',\n",
    "                   'varname': 'v'})\n",
    "\n",
    "ss.setup()\n",
    "\n",
    "msg_ltb = f\"LTB case: {ss.files.case.split('/')[-1]}.\\n\"\n",
    "msg_htb = f\"HTB is set to LTB load {pq_htb}, connected to LTB bus {bus_htb}.\"\n",
    "logger.warning(msg_ltb + msg_htb)\n",
    "logger.warning(\"LTB setup completed.\")\n",
    "\n",
    "rows = np.ceil((cs_config['t_total'] - cs_config['ti']) / cs_config['t_step'])\n",
    "cs_num = -1 * np.ones((int(rows), len(cs_col)))\n",
    "\n",
    "const_freq = 2 * np.pi * ss.config.freq  # constant to calculate bus angle\n",
    "flag_init = True  # Flag to indicate the very first iteration\n",
    "flag_tc0 = True  # Flag to record `tc0`\n",
    "\n",
    "flag_datar = False  # Flag to indicate if data read is successful\n",
    "flag_dataw = False  # Flag to indicate if data write is successful\n",
    "\n",
    "flag_base = True  # Flag t0 update counter base\n",
    "\n",
    "# --- system initial conditions ---\n",
    "\n",
    "a0 = ss.Bus.get(idx=bus_slack, src='a', attr='v')  # initial slack bus angle\n",
    "p0 = ss.PQ.get(idx=pq_htb, src='p0', attr='v')  # initial HTB bus active power\n",
    "q0 = ss.PQ.get(idx=pq_htb, src='q0', attr='v')  # initial HTB bus reactive power\n",
    "\n",
    "ss.TDS.config.no_tqdm = 1  # turn off tqdm progress bar\n",
    "ss.TDS.config.criteria = 0  # turn off stability criteria\n",
    "\n",
    "# set constant power load\n",
    "ss.PQ.config.p2p = 1\n",
    "ss.PQ.config.q2q = 1\n",
    "ss.PQ.config.p2z = 0\n",
    "ss.PQ.config.q2z = 0\n",
    "ss.PQ.pq2z = 0\n",
    "\n",
    "ss.PFlow.run()  # solve power flow\n",
    "ss.TDS.config.tf = cs_config['ti']\n",
    "ss.TDS.run()\n",
    "\n",
    "logger.warning(\"Start HTB.\")\n",
    "t0_htb = time.time()\n",
    "\n",
    "rows = cs_config['t_total'] / cs_config['t_step'] - 50\n",
    "k0 = 0\n",
    "\n",
    "while (cs_stat['kr'] != 11):\n",
    "    # --- repeat reading data until kr==11 ---\n",
    "    [cs_stat['kr'], cs_stat['p'], cs_stat['q']], txtc, flag_datar = data_read(file=filer, config=io_config)\n",
    "    kr0 = cs_stat['kr']\n",
    "    k0 = cs_stat['k']\n",
    "    # --- reset io_config default values ---\n",
    "    [io_config['p_df'], io_config['q_df']] = [cs_stat['p'], cs_stat['q']]\n",
    "flag_init = False  # Turn off init_flag after first iteration\n",
    "logger.warning(\"Co-sim initialized.\")\n",
    "while cs_stat['k'] < rows:\n",
    "    if flag_tc0:\n",
    "        tc0 = time.time()  # record clock time\n",
    "        flag_tc0 = False\n",
    "    # --- data read ---\n",
    "    # NOTE: repeat reading data until counter update\n",
    "    iter_read = 0\n",
    "    k0 = cs_stat['k']\n",
    "    # NOTE: repeat reading data until read counter `cs_stat['kr]` update\n",
    "    t0_htb = time.time()\n",
    "    while (cs_stat['kr'] != kr0 + 1) & (iter_read <= cs_config['itermax_io']):\n",
    "        [cs_stat['kr'], cs_stat['p'], cs_stat['q']], txtc, flag_datar = data_read(file=filer, config=io_config)\n",
    "        [io_config['p_df'], io_config['q_df']] = [cs_stat['p'], cs_stat['q']]\n",
    "        iter_read += 1\n",
    "    if iter_read > cs_config['itermax_io']:\n",
    "        cs_stat['p'], cs_stat['q'] = io_config['p_df'], io_config['q_df']\n",
    "    tc1 = time.time()  # record clock time\n",
    "    # NOTE: update cumulative counter if read counter update successfully\n",
    "    kr0 = cs_stat['kr']\n",
    "    k0 = cs_stat['k']\n",
    "    cs_stat['k'] += 1\n",
    "    # --- LTB sim ---\n",
    "    # --- info ---\n",
    "    if np.mod(cs_stat['k'], 100) == 0:\n",
    "        msg = \"Counter update: k=%d\" % cs_stat['k']\n",
    "        logger.warning(msg)\n",
    "    # --- send data to HTB ---\n",
    "    # NOTE: Make sure `BusFreq` is connected to the load bus\n",
    "    f_send = ss.BusFreq.get(idx='BusFreq_HTB', src='f', attr='v')  # p.u.\n",
    "    v_bus = ss.Bus.get(idx=bus_htb, src='v', attr='v')  # RMS, p.u.\n",
    "    dataw = [v_bus, f_send]  # LTB: voltage, angle\n",
    "    data_write(dataw=dataw, file=filew, config=io_config)\n",
    "    tc2 = time.time()  # send end time\n",
    "    # --- LTB simulation ---\n",
    "    p_inj = cs_config['load_switch'] * cs_stat['p']\n",
    "    q_inj = cs_config['load_switch'] * cs_stat['q']\n",
    "    # a) set PQ data in LTB\n",
    "    ss.PQ.set(value=p_inj + p0, idx=pq_htb, src='Ppf', attr='v')\n",
    "    ss.PQ.set(value=q_inj + q0, idx=pq_htb, src='Qpf', attr='v')\n",
    "    # b) TDS\n",
    "    ss.TDS.config.tf += cs_config['t_step']\n",
    "    ss.TDS.run()\n",
    "    tc3 = time.time()  # record clock time\n",
    "    # NOTE: tf_htb is the end time of last round\n",
    "    if tc3 - t0_htb > 2 * cs_config['t_step']:\n",
    "        cs_stat['iter_fail'] += 1\n",
    "    cs_stat['tr'] = tc1 - t0_htb  # read time\n",
    "    cs_stat['tw'] = tc2 - tc1  # write time\n",
    "    cs_stat['tsim'] = tc3 - tc2  # write time\n",
    "    # update HTB time\n",
    "#     t0_htb += cs_config['t_step']\n",
    "    cs_stat['iter_total'] += 1\n",
    "    flag_base = True\n",
    "    #  --- record data ---\n",
    "    for col in cs_col:\n",
    "        cs_num[cs_stat['k']-1, cs_col.index(col)] = cs_stat[col]\n",
    "    # update counter base\n",
    "    if flag_base & (cs_stat['kr'] == 199):\n",
    "        cs_stat['kr'] = 10\n",
    "        kr0 = 10\n",
    "        flag_base = False\n",
    "        msg = \"LTB: Counter base Updated\"\n",
    "#         logger.warning(msg)\n",
    "\n",
    "msg_end = \"Co-sim finished.\"\n",
    "logger.warning(msg_end)\n",
    "\n",
    "# --- save data ---\n",
    "cosim_out = pd.DataFrame(data=cs_num, columns=cs_col)\n",
    "outfile_name = f'/{datetime.datetime.now().strftime(\"%m%d%y_%H%M\")}_output.csv'\n",
    "csv_out = path_out + outfile_name\n",
    "\n",
    "ss_outname = f'/{datetime.datetime.now().strftime(\"%m%d%y_%H%M\")}_ltb.csv'\n",
    "ss.TDS.load_plotter()\n",
    "ss.TDS.plt.export_csv(path=path_out+ss_outname)\n",
    "\n",
    "cosim_out['tall'] = cosim_out['tw'] + cosim_out['tr']+ cosim_out['tsim']\n",
    "cosim_out.to_csv(csv_out, index=False, header=True)\n",
    "logger.warning(f\"Co-sim data saved to folder: {path_out}\")\n"
   ]
  },
  {
   "cell_type": "code",
   "execution_count": 4,
   "metadata": {},
   "outputs": [
    {
     "data": {
      "text/plain": [
       "{'iter_total': 3950,\n",
       " 'iter_fail': 0,\n",
       " 'kr': 63,\n",
       " 'k': 3950,\n",
       " 'a_ltb': 0,\n",
       " 'p': 0.10000000000000009,\n",
       " 'q': 0.0,\n",
       " 'tw': 0.0,\n",
       " 'tr': 0.00099945068359375,\n",
       " 'tsim': 0.05996561050415039}"
      ]
     },
     "execution_count": 4,
     "metadata": {},
     "output_type": "execute_result"
    }
   ],
   "source": [
    "cs_stat"
   ]
  },
  {
   "cell_type": "code",
   "execution_count": 5,
   "metadata": {},
   "outputs": [
    {
     "data": {
      "text/plain": [
       "<matplotlib.legend.Legend at 0x29857a74d60>"
      ]
     },
     "execution_count": 5,
     "metadata": {},
     "output_type": "execute_result"
    },
    {
     "data": {
      "image/png": "[encoded data removed]",
      "text/plain": [
       "<Figure size 432x288 with 1 Axes>"
      ]
     },
     "metadata": {
      "needs_background": "light"
     },
     "output_type": "display_data"
    }
   ],
   "source": [
    "fig_t, ax_t = plt.subplots()\n",
    "cosim_out = cosim_out.iloc[0:-40]\n",
    "cosim_out.plot.scatter(x='k', y='tw', color='green', fig=fig_t, ax=ax_t)\n",
    "cosim_out.plot.scatter(x='k', y='tr', color='red', fig=fig_t, ax=ax_t)\n",
    "cosim_out.plot.scatter(x='k', y='tsim', color='blue', fig=fig_t, ax=ax_t)\n",
    "cosim_out.plot.scatter(x='k', y='tall', color='black', fig=fig_t, ax=ax_t)\n",
    "ax_t.legend(['Read', 'Write', 'Sim', 'Total'])"
   ]
  },
  {
   "cell_type": "code",
   "execution_count": 6,
   "metadata": {},
   "outputs": [
    {
     "data": {
      "text/plain": [
       "<AxesSubplot:xlabel='k'>"
      ]
     },
     "execution_count": 6,
     "metadata": {},
     "output_type": "execute_result"
    },
    {
     "data": {
      "image/png": "[encoded data removed]",
      "text/plain": [
       "<Figure size 432x288 with 1 Axes>"
      ]
     },
     "metadata": {
      "needs_background": "light"
     },
     "output_type": "display_data"
    }
   ],
   "source": [
    "cosim_out.plot(x='k', y='p', color='green')"
   ]
  },
  {
   "cell_type": "code",
   "execution_count": 7,
   "metadata": {},
   "outputs": [
    {
     "data": {
      "image/png": "[encoded data removed]",
      "text/plain": [
       "<Figure size 640x480 with 1 Axes>"
      ]
     },
     "metadata": {},
     "output_type": "display_data"
    },
    {
     "data": {
      "text/plain": [
       "(<Figure size 640x480 with 1 Axes>,\n",
       " <AxesSubplot:title={'center':'System Frequency'}, xlabel='Time [s]', ylabel='Freq. [Hz]'>)"
      ]
     },
     "execution_count": 7,
     "metadata": {},
     "output_type": "execute_result"
    }
   ],
   "source": [
    "ss.TDS.plt.plot([ss.GENROU.omega, ss.GENCLS.omega],\n",
    "                ytimes=ss.config.freq,\n",
    "                ylabel='Freq. [Hz]',\n",
    "                ymin=59.98, ymax=60.02,\n",
    "                title='System Frequency',)"
   ]
  }
 ],
 "metadata": {
  "kernelspec": {
   "display_name": "Python 3 (ipykernel)",
   "language": "python",
   "name": "python3"
  },
  "language_info": {
   "codemirror_mode": {
    "name": "ipython",
    "version": 3
   },
   "file_extension": ".py",
   "mimetype": "text/x-python",
   "name": "python",
   "nbconvert_exporter": "python",
   "pygments_lexer": "ipython3",
   "version": "3.9.12"
  },
  "vscode": {
   "interpreter": {
    "hash": "f53e6703cb84454da2467a3cefedfe3271c8645aec7dab61336c0047a343c6a3"
   }
  }
 },
 "nbformat": 4,
 "nbformat_minor": 2
}
