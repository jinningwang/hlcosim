{
 "cells": [
  {
   "cell_type": "markdown",
   "metadata": {},
   "source": [
    "## Hardware Testbed and Large-scale Testbed Co-simulation"
   ]
  },
  {
   "cell_type": "markdown",
   "metadata": {},
   "source": [
    "## Co-Simulation"
   ]
  },
  {
   "cell_type": "code",
   "execution_count": 1,
   "metadata": {},
   "outputs": [],
   "source": [
    "# --- imports ---\n",
    "\n",
    "import numpy as np\n",
    "import pandas as pd\n",
    "\n",
    "import matplotlib\n",
    "matplotlib.rcParams.update(matplotlib.rcParamsDefault)\n",
    "\n",
    "import matplotlib.pyplot as plt\n",
    "import scienceplots\n",
    "\n",
    "from core import run"
   ]
  },
  {
   "cell_type": "code",
   "execution_count": null,
   "metadata": {
    "scrolled": true
   },
   "outputs": [],
   "source": [
    "ss, cosim_out, status = run(case='ieee39_htb.xlsx',\n",
    "                            read_file = 'datar.txt', write_file = 'dataw.txt',\n",
    "                            test_mode=False, AGC_control=True)"
   ]
  },
  {
   "cell_type": "code",
   "execution_count": null,
   "metadata": {},
   "outputs": [],
   "source": [
    "# --- plot ---\n",
    "cosim_plt = cosim_out.copy()\n",
    "cosim_plt[['p', 'q']] = cosim_plt[['p', 'q']] * ss.config.mva   # p.u. to nominal value\n",
    "cosim_plt[['tw', 'tr', 'tsim', 'tall']] = cosim_plt[['tw', 'tr', 'tsim', 'tall']] * 1000  # s to ms\n",
    "cosim_plt['freq'] = cosim_plt['freq'] * ss.config.freq  # p.u. to Hz"
   ]
  },
  {
   "cell_type": "code",
   "execution_count": null,
   "metadata": {},
   "outputs": [],
   "source": [
    "%matplotlib inline"
   ]
  },
  {
   "cell_type": "code",
   "execution_count": null,
   "metadata": {},
   "outputs": [],
   "source": [
    "fig0, ax0 = plt.subplots(3, 2, figsize=(8, 9), dpi=150)\n",
    "plt.subplots_adjust(wspace=0.25, hspace=0.2)\n",
    "plt.style.use(['science', 'ieee'])\n",
    "\n",
    "x, fig, ax = 'k', fig0, ax0[0, 0]\n",
    "cosim_plt.plot.scatter(y='tw', color='green', label='Data read time', x=x, fig=fig, ax=ax)\n",
    "cosim_plt.plot.scatter(y='tr', color='red', label='Data write time', x=x, fig=fig, ax=ax)\n",
    "cosim_plt.plot.scatter(y='tsim', color='blue', label='Simulation time', x=x, fig=fig, ax=ax)\n",
    "cosim_plt.plot.scatter(y='tall', color='black', label='Total time', x=x, fig=fig, ax=ax)\n",
    "\n",
    "ax.legend(loc='upper right', frameon=True)\n",
    "ax.set_xlabel('Counter')\n",
    "ax.set_ylabel('Time [ms]')\n",
    "ax.grid(True)\n",
    "ax.set_title('Running time breakdown')\n",
    "ax.set_xlim([-0.5, cosim_plt.shape[0]])\n",
    "ax.set_ylim([-0.5, 1.2 * 50])\n",
    "\n",
    "xlim = [cosim_plt['tf'].iloc[0], cosim_plt['tf'].iloc[-1]]\n",
    "cosim_plt.plot(x='tf', y=['p'],\n",
    "               fig=fig, ax=ax0[1, 0],\n",
    "               xlabel='Time [s]', ylabel='P [MW]', grid=True,\n",
    "               xlim=xlim, legend=False,\n",
    "               )\n",
    "cosim_plt.plot(x='tf', y=['q'],\n",
    "               fig=fig, ax=ax0[1, 1],\n",
    "               xlabel='Time [s]', ylabel='Q [MVar]', grid=True,\n",
    "               xlim=xlim, legend=False,\n",
    "               )\n",
    "cosim_plt.plot(x='tf', y=['freq'],\n",
    "               fig=fig, ax=ax0[2, 0],\n",
    "               xlabel='Time [s]', ylabel='Frequency [Hz]', grid=True,\n",
    "               xlim=xlim, legend=False,\n",
    "               )\n",
    "cosim_plt.plot(x='tf', y=['v'],\n",
    "               fig=fig, ax=ax0[2, 1],\n",
    "               xlabel='Time [s]', ylabel='Voltage [p.u.]', grid=True,\n",
    "               xlim=xlim, legend=False,\n",
    "               )"
   ]
  }
 ],
 "metadata": {
  "kernelspec": {
   "display_name": "Python 3 (ipykernel)",
   "language": "python",
   "name": "python3"
  },
  "language_info": {
   "codemirror_mode": {
    "name": "ipython",
    "version": 3
   },
   "file_extension": ".py",
   "mimetype": "text/x-python",
   "name": "python",
   "nbconvert_exporter": "python",
   "pygments_lexer": "ipython3",
   "version": "3.10.9"
  },
  "vscode": {
   "interpreter": {
    "hash": "f53e6703cb84454da2467a3cefedfe3271c8645aec7dab61336c0047a343c6a3"
   }
  }
 },
 "nbformat": 4,
 "nbformat_minor": 2
}
