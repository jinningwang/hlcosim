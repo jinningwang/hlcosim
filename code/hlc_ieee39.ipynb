{
 "cells": [
  {
   "cell_type": "markdown",
   "metadata": {},
   "source": [
    "## Hardware Testbed and Large-scale Testbed Co-simulation"
   ]
  },
  {
   "cell_type": "markdown",
   "metadata": {},
   "source": [
    "## Co-Simulation"
   ]
  },
  {
   "cell_type": "code",
   "execution_count": 1,
   "metadata": {},
   "outputs": [
    {
     "name": "stdout",
     "output_type": "stream",
     "text": [
      "0.post4599+g7310539\n"
     ]
    }
   ],
   "source": [
    "# --- imports ---\n",
    "\n",
    "import os\n",
    "import subprocess\n",
    "\n",
    "import time\n",
    "import logging\n",
    "logger = logging.getLogger(__name__)\n",
    "\n",
    "import csv\n",
    "import time\n",
    "import numpy as np\n",
    "import matplotlib.pyplot as plt\n",
    "import pandas as pd\n",
    "\n",
    "import andes\n",
    "andes.config_logger(30)\n",
    "print(andes.__version__)\n",
    "\n",
    "%matplotlib inline\n",
    "\n",
    "# --- set logging level ---\n",
    "# logger.setLevel(logging.WARNING)\n",
    "from core_io import data_read, data_write, io_config, cs_stat, cs_config"
   ]
  },
  {
   "cell_type": "code",
   "execution_count": 2,
   "metadata": {},
   "outputs": [],
   "source": [
    "\n",
    "is_test = True\n",
    "rflie = 'datar.txt'\n",
    "wfile = 'dataw.txt'\n",
    "if is_test:\n",
    "    rflie = 't' + rflie\n",
    "\n",
    "# --- set path ---\n",
    "path_proj = os.getcwd()\n",
    "path_case = os.path.join(path_proj, 'case')\n",
    "path_data = os.path.join(path_proj, 'data')\n",
    "path_ltb = os.path.join(path_proj, 'core_ltb.py')\n",
    "filer = os.path.join(path_data, rflie)\n",
    "filew = os.path.join(path_data, wfile)\n",
    "path_ehtb = os.path.join(path_data, 'ehtb.py')\n",
    "path_out = os.path.join(path_proj, 'output')\n",
    "\n",
    "case1 = os.path.join(path_case, 'ieee14_htb.xlsx')\n",
    "case2 = os.path.join(path_case, 'pjm5_htb.xlsx')\n",
    "case3 = os.path.join(path_case, 'npcc_htb.xlsx')\n",
    "case4 = os.path.join(path_case, 'ieee39_htb.xlsx')"
   ]
  },
  {
   "cell_type": "code",
   "execution_count": 3,
   "metadata": {},
   "outputs": [],
   "source": [
    "ss = andes.load(case4,\n",
    "                no_output=True,\n",
    "                default_config=False,\n",
    "                setup=False)"
   ]
  },
  {
   "cell_type": "code",
   "execution_count": 4,
   "metadata": {},
   "outputs": [
    {
     "name": "stderr",
     "output_type": "stream",
     "text": [
      "ACEc.busf: <BusFreq_2> is not found.\n",
      "IEEEST.busf: <BusFreq_1> is not found.\n",
      "IEEEST.busf: <BusFreq_2> is not found.\n",
      "IEEEST.busf: <BusFreq_6> is not found.\n",
      "IEEEST.busf: <BusFreq_7> is not found.\n",
      "IEEEST.busf: <BusFreq_8> is not found.\n",
      "IEEEST.busf: <BusFreq_9> is not found.\n",
      "IEEEST.busf: <BusFreq_10> is not found.\n"
     ]
    },
    {
     "data": {
      "text/plain": [
       "True"
      ]
     },
     "execution_count": 4,
     "metadata": {},
     "output_type": "execute_result"
    }
   ],
   "source": [
    "#  --- HTB variables ---\n",
    "pq_htb = 'PQ_9'  # load represents for HTB\n",
    "bus_htb = ss.PQ.get(idx=pq_htb, src='bus', attr='v')  # get bus index of HTB\n",
    "bus_slack = ss.Slack.bus.v[0]  # get bus index of slack bus\n",
    "\n",
    "p_inj = 6\n",
    "\n",
    "# --- AGC settings ---\n",
    "intv_agc = 4  # interval of AGC\n",
    "\n",
    "# ACE vars for PI controller\n",
    "ACE_integral = 0\n",
    "ACE_raw = 0\n",
    "Kp = 0.01  # 0.05\n",
    "Ki = 0.0\n",
    "\n",
    "# --- add Bus Freq. Measurement to HTB bus ---\n",
    "ss.add('BusFreq', {'idx': 'BusFreq_HTB',\n",
    "                   'name': 'BusFreq_HTB',\n",
    "                   'bus': bus_htb,\n",
    "                   'Tf': 0.02,\n",
    "                   'Tw': 0.02,\n",
    "                   'fn': 60})\n",
    "ss.add('BusFreq', {'idx': 'BusFreq_Slack',\n",
    "                   'name': 'BusFreq_Slack',\n",
    "                   'bus': bus_slack,\n",
    "                   'Tf': 0.02,\n",
    "                   'Tw': 0.02,\n",
    "                   'fn': 60})\n",
    "\n",
    "# ss.add('Output', {'model': 'COI',\n",
    "#                    'varname': 'omega'})\n",
    "# ss.add('Output', {'model': 'BusFreq',\n",
    "#                    'varname': 'f'})\n",
    "# ss.add('Output', {'model': 'GENROU',\n",
    "#                    'varname': 'omega'})\n",
    "# ss.add('Output', {'model': 'Bus',\n",
    "#                    'varname': 'a'})\n",
    "# ss.add('Output', {'model': 'Bus',\n",
    "#                    'varname': 'v'})\n",
    "# ss.add('Output', {'model': 'TGOV1NDB',\n",
    "#                    'varname': 'paux'})\n",
    "# ss.add('Output', {'model': 'TGOV1NDB',\n",
    "#                    'varname': 'pout'})\n",
    "\n",
    "ss.add('PQ', {'idx': 'PQ_HTB',\n",
    "            'u':0,\n",
    "            'name': 'PQ_HTB',\n",
    "            'bus': bus_htb,\n",
    "            'p0': p_inj,\n",
    "            'q0': 0,\n",
    "            'vmax': 1.2,\n",
    "            'vmin': 0.8,\n",
    "            'owner': 1})\n",
    "# Add a Toggle that connects `PQ_HTB` at t=1 s\n",
    "ss.add(\"Toggle\", dict(model='StaticLoad', dev=\"PQ_HTB\", t=1.0))\n",
    "\n",
    "ss.setup()\n",
    "\n",
    "# --- system initial conditions ---\n",
    "a0 = ss.Bus.get(idx=bus_slack, src='a', attr='v')  # initial slack bus angle\n",
    "p0 = ss.PQ.get(idx=pq_htb, src='p0', attr='v')  # initial HTB bus active power\n",
    "q0 = ss.PQ.get(idx=pq_htb, src='q0', attr='v')  # initial HTB bus reactive power\n",
    "\n",
    "tgov_idx = 'TGOV1_1'  # TurbineGov idx\n",
    "\n",
    "ss.TDS.config.no_tqdm = 1  # turn off tqdm progress bar\n",
    "ss.TDS.config.criteria = 0  # turn off stability criteria\n",
    "\n",
    "# set constant power load\n",
    "ss.PQ.config.p2p = 1\n",
    "ss.PQ.config.q2q = 1\n",
    "ss.PQ.config.p2z = 0\n",
    "ss.PQ.config.q2z = 0\n",
    "ss.PQ.pq2z = 0\n",
    "\n",
    "ss.PFlow.run()"
   ]
  },
  {
   "cell_type": "code",
   "execution_count": 5,
   "metadata": {},
   "outputs": [
    {
     "name": "stderr",
     "output_type": "stream",
     "text": [
      "GENROU (vf range) out of typical lower limit.\n",
      "\n",
      "   idx     | values | limit\n",
      "-----------+--------+------\n",
      " GENROU_10 | 0.980  | 1    \n",
      "\n",
      "\n",
      "GENROU (xl <= xd2) out of typical upper limit.\n",
      "\n",
      "   idx     | values | limit\n",
      "-----------+--------+------\n",
      " GENROU_1  | 0.014  | 0.001\n",
      " GENROU_3  | 0.018  | 0.003\n",
      " GENROU_4  | 0.013  | 0.001\n",
      " GENROU_5  | 0.014  | 0.001\n",
      " GENROU_7  | 0.015  | 0.002\n",
      " GENROU_8  | 0.015  | 0.006\n",
      " GENROU_9  | 0.009  | 0.001\n",
      " GENROU_10 | 0.013  | 0.000\n",
      "\n",
      "\n",
      "Dime not installed. Set System config `dime_enabled` to `0` to suppress warning.\n"
     ]
    },
    {
     "name": "stdout",
     "output_type": "stream",
     "text": [
      "<Toggle Toggle_2>: StaticLoad.PQ_HTB status changed to 1 at t=1.0 sec.\n"
     ]
    },
    {
     "name": "stderr",
     "output_type": "stream",
     "text": [
      "Time step reduced to zero. Convergence is not likely.\n",
      "Simulation terminated at t=5.0033 s.\n"
     ]
    },
    {
     "ename": "ValueError",
     "evalue": "TDS error! Exit with 1, end at 6s.",
     "output_type": "error",
     "traceback": [
      "\u001b[0;31m---------------------------------------------------------------------------\u001b[0m",
      "\u001b[0;31mValueError\u001b[0m                                Traceback (most recent call last)",
      "\u001b[1;32m/Users/jinningwang/Documents/work/hlcosim/code/hlc_ieee39.ipynb Cell 7\u001b[0m in \u001b[0;36m<cell line: 1>\u001b[0;34m()\u001b[0m\n\u001b[1;32m     <a href='vscode-notebook-cell:/Users/jinningwang/Documents/work/hlcosim/code/hlc_ieee39.ipynb#X54sZmlsZQ%3D%3D?line=16'>17</a>\u001b[0m     ACE_raw \u001b[39m=\u001b[39m \u001b[39m-\u001b[39m(Kp\u001b[39m*\u001b[39mss\u001b[39m.\u001b[39mACEc\u001b[39m.\u001b[39mace\u001b[39m.\u001b[39mv\u001b[39m.\u001b[39msum() \u001b[39m+\u001b[39m Ki\u001b[39m*\u001b[39mACE_integral)\n\u001b[1;32m     <a href='vscode-notebook-cell:/Users/jinningwang/Documents/work/hlcosim/code/hlc_ieee39.ipynb#X54sZmlsZQ%3D%3D?line=18'>19</a>\u001b[0m \u001b[39mif\u001b[39;00m ss\u001b[39m.\u001b[39mexit_code \u001b[39m!=\u001b[39m \u001b[39m0\u001b[39m:\n\u001b[0;32m---> <a href='vscode-notebook-cell:/Users/jinningwang/Documents/work/hlcosim/code/hlc_ieee39.ipynb#X54sZmlsZQ%3D%3D?line=19'>20</a>\u001b[0m     \u001b[39mraise\u001b[39;00m \u001b[39mValueError\u001b[39;00m(\u001b[39mf\u001b[39m\u001b[39m\"\u001b[39m\u001b[39mTDS error! Exit with \u001b[39m\u001b[39m{\u001b[39;00mss\u001b[39m.\u001b[39mexit_code\u001b[39m}\u001b[39;00m\u001b[39m, end at \u001b[39m\u001b[39m{\u001b[39;00mend_time\u001b[39m}\u001b[39;00m\u001b[39ms.\u001b[39m\u001b[39m\"\u001b[39m)\n",
      "\u001b[0;31mValueError\u001b[0m: TDS error! Exit with 1, end at 6s."
     ]
    }
   ],
   "source": [
    "for end_time in range(50):  # t_total\n",
    "    # --- interval AGC ---\n",
    "    if end_time % intv_agc == 0:\n",
    "        ss.TurbineGov.set(src='paux0', idx=tgov_idx, attr='v',\n",
    "                          value=ACE_raw)\n",
    "\n",
    "    # run TDS\n",
    "    if end_time == 0:\n",
    "        continue\n",
    "    else:\n",
    "        # run TDS\n",
    "        ss.TDS.config.tf = end_time\n",
    "        ss.TDS.run()\n",
    "\n",
    "        # update AGC PI Controller\n",
    "        ACE_integral = ACE_integral + ss.ACEc.ace.v.sum()\n",
    "        ACE_raw = -(Kp*ss.ACEc.ace.v.sum() + Ki*ACE_integral)\n",
    "\n",
    "    if ss.exit_code != 0:\n",
    "        raise ValueError(f\"TDS error! Exit with {ss.exit_code}, end at {end_time}s.\")\n"
   ]
  },
  {
   "cell_type": "code",
   "execution_count": null,
   "metadata": {},
   "outputs": [],
   "source": [
    "ss.TDS.plt.plot(ss.GENROU.Pe)"
   ]
  },
  {
   "cell_type": "code",
   "execution_count": null,
   "metadata": {
    "scrolled": false
   },
   "outputs": [],
   "source": [
    "fig, ax = plt.subplots(1, 2, figsize=(8, 3), dpi=200)\n",
    "plt.subplots_adjust(wspace=0.3)\n",
    "\n",
    "msg = f'Case: IEEE 39-Bus; Total load: {ss.config.mva * ss.PQ.p0.v.sum():.2f} MVA'\n",
    "msg2 = f'Link: HTB Load: {pq_htb}; HTB Bus: {bus_htb}'\n",
    "msg3 = f'Contingency: load increase {ss.config.mva * p_inj:.2f} MVA ({100 * p_inj / ss.PQ.p0.v.sum():.2f}\\%) at bus {ss.PQ.bus.v[-1]} at t={ss.Toggle.t.v[-1]}s.'\n",
    "\n",
    "fig.text(0.13, 1.1, msg + '; ' + msg2, fontsize=10)\n",
    "fig.text(0.13, 1.05, msg3, fontsize=10)\n",
    "\n",
    "ss.TDS.plt.plot(ss.Bus.v, a=(19, 38,),\n",
    "                ax=ax[0], fig=fig,\n",
    "                legend=True, show=False, grid=True,\n",
    "                yheader=['Bus HTB', 'Bus Slack'],\n",
    "                # title='Bus voltage',\n",
    "                ylabel='Voltage [p.u.]')\n",
    "\n",
    "ss.TDS.plt.plot(ss.BusFreq.f, a=(0, 1,),\n",
    "                ax=ax[1], fig=fig,\n",
    "                legend=True, show=False, grid=True,\n",
    "                yheader=['Bus HTB', 'Bus Slack'],\n",
    "                ytimes=ss.config.freq,\n",
    "                # title='Bus frequency',\n",
    "                ylabel='Frequency [Hz]')\n"
   ]
  }
 ],
 "metadata": {
  "kernelspec": {
   "display_name": "Python 3 (ipykernel)",
   "language": "python",
   "name": "python3"
  },
  "language_info": {
   "codemirror_mode": {
    "name": "ipython",
    "version": 3
   },
   "file_extension": ".py",
   "mimetype": "text/x-python",
   "name": "python",
   "nbconvert_exporter": "python",
   "pygments_lexer": "ipython3",
   "version": "3.9.12"
  },
  "vscode": {
   "interpreter": {
    "hash": "f53e6703cb84454da2467a3cefedfe3271c8645aec7dab61336c0047a343c6a3"
   }
  }
 },
 "nbformat": 4,
 "nbformat_minor": 2
}
