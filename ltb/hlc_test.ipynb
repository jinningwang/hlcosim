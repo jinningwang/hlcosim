{
 "cells": [
  {
   "cell_type": "markdown",
   "metadata": {},
   "source": [
    "## Hardware Testbed and Large-scale Testbed Co-simulation"
   ]
  },
  {
   "cell_type": "markdown",
   "metadata": {},
   "source": [
    "## Co-Simulation"
   ]
  },
  {
   "cell_type": "code",
   "execution_count": 1,
   "metadata": {},
   "outputs": [
    {
     "name": "stdout",
     "output_type": "stream",
     "text": [
      "1.8.5\n"
     ]
    }
   ],
   "source": [
    "# --- imports ---\n",
    "\n",
    "import os\n",
    "import subprocess\n",
    "\n",
    "import time\n",
    "import logging\n",
    "logger = logging.getLogger(__name__)\n",
    "\n",
    "import csv\n",
    "import time\n",
    "import numpy as np\n",
    "import matplotlib.pyplot as plt\n",
    "import pandas as pd\n",
    "\n",
    "import andes\n",
    "andes.config_logger(30)\n",
    "print(andes.__version__)\n",
    "\n",
    "%matplotlib inline\n",
    "\n",
    "# --- set logging level ---\n",
    "# logger.setLevel(logging.WARNING)"
   ]
  },
  {
   "cell_type": "code",
   "execution_count": 2,
   "metadata": {},
   "outputs": [],
   "source": [
    "is_test = True\n",
    "\n",
    "rflie = 'datar.csv'\n",
    "wfile = 'dataw.csv'\n",
    "\n",
    "if is_test:\n",
    "    rflie = 't' + rflie"
   ]
  },
  {
   "cell_type": "code",
   "execution_count": 3,
   "metadata": {},
   "outputs": [],
   "source": [
    "%run -i \"core_pre.py\""
   ]
  },
  {
   "cell_type": "code",
   "execution_count": 5,
   "metadata": {},
   "outputs": [
    {
     "name": "stdout",
     "output_type": "stream",
     "text": [
      "A\n"
     ]
    },
    {
     "name": "stderr",
     "output_type": "stream",
     "text": [
      "Test file in fly\n",
      "Successfully remove file /Users/jinningwang/Documents/work/hlcosim/ltb/data/tdatar.txt\n",
      "Emulated data IO start, period = 0.050000\n",
      "Counter base Updated to 0\n"
     ]
    }
   ],
   "source": [
    "if is_test:\n",
    "    sp_ehtb = subprocess.call(f\"python3 {path_ehtb} & python3 {path_test}\", shell=True)\n",
    "    # sp_ehtb.wait()"
   ]
  },
  {
   "cell_type": "markdown",
   "metadata": {},
   "source": [
    "### Co-Simulation"
   ]
  },
  {
   "cell_type": "code",
   "execution_count": null,
   "metadata": {},
   "outputs": [],
   "source": [
    "%run -i \"core_io.py\""
   ]
  },
  {
   "cell_type": "code",
   "execution_count": null,
   "metadata": {},
   "outputs": [],
   "source": [
    "data_read(file=filer, config=io_config)"
   ]
  },
  {
   "cell_type": "code",
   "execution_count": null,
   "metadata": {},
   "outputs": [],
   "source": [
    "t0_htb = cs_stat['k'] * cs_config['t_step']\n",
    "tf_htb = t0_htb + cs_config['t_step']\n",
    "\n",
    "k0 = 0\n",
    "\n",
    "while cs_stat['k'] <= rows:\n",
    "    if flag_init:\n",
    "        # logger.warning(\"LTB ready, strat HTB to continue.\")\n",
    "        # --- start HTB emulator in test mode ---\n",
    "        if is_test:\n",
    "            subprocess.run(f\"python3 {path_ehtb}\", shell=True)\n",
    "        while (cs_stat['kr'] != 11):\n",
    "            # --- repeat reading data until kr==11 ---\n",
    "            [cs_stat['kr'], cs_stat['p'], cs_stat['q']], txtc, flag_datar = data_read(file=filer, config=io_config)\n",
    "            kr0 = cs_stat['kr']\n",
    "            k0 = cs_stat['k']\n",
    "            # --- reset io_config default values ---\n",
    "            [io_config['p_df'], io_config['q_df']] = [cs_stat['p'], cs_stat['q']]\n",
    "        flag_init = False  # Turn off init_flag after first iteration\n",
    "        cs_stat['k'] = 1\n",
    "        logger.warning(\"Co-sim initialized.\")\n",
    "    if cs_stat['kr'] > 10:\n",
    "        if flag_tc0:\n",
    "            tc0 = time.time()  # record clock time\n",
    "            flag_tc0 = False\n",
    "        # --- data read ---\n",
    "        # NOTE: repeat reading data until counter update\n",
    "        iter_read = 0\n",
    "        k0 = cs_stat['k']\n",
    "        while (cs_stat['kr'] != kr0 + 1) & (iter_read <= cs_config['itermax_io']):\n",
    "            [cs_stat['kr'], cs_stat['p'], cs_stat['q']], txtc, flag_datar = data_read(file=filer, config=io_config)\n",
    "            cs_stat['k'] = cs_stat['ks'] * cs_stat['kr'] + cs_stat['kb']\n",
    "            [io_config['p_df'], io_config['q_df']] = [cs_stat['p'], cs_stat['q']]\n",
    "            iter_read += 1\n",
    "            # update counter base\n",
    "            if flag_base & (cs_stat['kr'] == 199):\n",
    "                cs_stat['kr'] = 10\n",
    "                cs_stat['ks'] += 1\n",
    "                flag_base = False\n",
    "                msg = \"Counter base updated: %d\" % cs_stat['ks']\n",
    "                logger.warning(msg)\n",
    "                continue\n",
    "        tc1 = time.time()  # record clock time\n",
    "        # --- LTB sim ---\n",
    "        if (cs_stat['k'] == k0 + 1):\n",
    "            print('kr, ks, kb, k')\n",
    "            print(cs_stat['kr'], cs_stat['ks'], cs_stat['kb'], cs_stat['k'])\n",
    "            if np.mod(cs_stat['k'], 20) == 0:\n",
    "                msg = \"Counter update: k=%d\" % cs_stat['k']\n",
    "                logger.warning(msg)\n",
    "            # --- send data to HTB ---\n",
    "            # Make sure `BusFreq` is connected to the load bus\n",
    "            f_send = ss.BusFreq.get(idx='BusFreq_HTB', src='f', attr='v')  # p.u.\n",
    "            v_bus = ss.Bus.get(idx=bus_htb, src='v', attr='v')  # RMS, p.u.\n",
    "            dataw = [v_bus, f_send]  # LTB: voltage, angle\n",
    "            data_write(dataw=dataw, file=filew, config=io_config)\n",
    "            tc2 = time.time()  # send end time\n",
    "            # --- LTB simulation ---\n",
    "            p_inj = cs_config['load_switch'] * cs_stat['p']\n",
    "            q_inj = cs_config['load_switch'] * cs_stat['q']\n",
    "            # a) set PQ data in LTB\n",
    "            ss.PQ.set(value=p_inj + p0, idx=pq_htb, src='Ppf', attr='v')\n",
    "            ss.PQ.set(value=q_inj + q0, idx=pq_htb, src='Qpf', attr='v')\n",
    "            # b) TDS\n",
    "            ss.TDS.config.tf += cs_config['t_step']\n",
    "            ss.TDS.run()\n",
    "            tc3 = time.time()  # record clock time\n",
    "            # NOTE: tf_htb is the end time of last round\n",
    "            if tc3 -  tf_htb > cs_config['t_step']:\n",
    "                cs_stat['iter_fail'] += 1\n",
    "            cs_stat['tr'] = tc1 - tf_htb  # read time\n",
    "            cs_stat['tw'] = tc2 - tc1  # write time\n",
    "            # update HTB time\n",
    "            t0_htb = cs_stat['k'] * cs_config['t_step']\n",
    "            tf_htb = t0_htb + cs_config['t_step']\n",
    "            cs_stat['iter_total'] += 1\n",
    "            flag_base = True\n",
    "            #  --- record data ---\n",
    "            for col in cs_col:\n",
    "                cs_num[cs_stat['k']-1, cs_col.index(col)] = cs_stat[col]\n"
   ]
  },
  {
   "cell_type": "code",
   "execution_count": null,
   "metadata": {},
   "outputs": [],
   "source": [
    "filer"
   ]
  },
  {
   "cell_type": "code",
   "execution_count": null,
   "metadata": {},
   "outputs": [],
   "source": [
    "data_read(file=filer, config=io_config)"
   ]
  },
  {
   "cell_type": "code",
   "execution_count": null,
   "metadata": {},
   "outputs": [],
   "source": [
    "cs_stat['k'] == k0 + 1"
   ]
  },
  {
   "cell_type": "code",
   "execution_count": null,
   "metadata": {},
   "outputs": [],
   "source": [
    "fig, ax = plt.subplots(1, 2, figsize=(20, 8), dpi=100)\n",
    "ax[0].scatter(x=range(len(tl)), y=tl)\n",
    "ax[0].set_ylim([-0.01, 0.06])"
   ]
  },
  {
   "cell_type": "code",
   "execution_count": null,
   "metadata": {},
   "outputs": [],
   "source": [
    "fig, ax = plt.subplots(1, 2, figsize=(20, 8), dpi=100)\n",
    "ax[0].scatter(x=range(len(tcl)), y=trl)\n",
    "ax[0].scatter(x=range(len(tcl)), y=twl)\n",
    "ax[0].scatter(x=range(len(tcl)), y=tsl)\n",
    "ax[0].scatter(x=range(len(tcl)), y=tcl)\n",
    "ax[0].legend(['Read', 'Write', 'Sim', 'Total'])\n",
    "ax[0].axhline(t_step, color='tab:red')\n",
    "ax[0].set_xlim([0, len(tcl)])\n",
    "ax[0].set_title(\"Data read time interval\")\n",
    "ax[0].set_ylabel(\"Time [s]\")\n",
    "ax[0].set_ylim([-0.05, 0.12])\n",
    "\n",
    "ax[1].scatter(x=range(len(crl)), y=crl)\n",
    "ax[1].set_xlim([0, len(crl)])\n",
    "ax[1].set_title(\"Read counter\")\n",
    "ax[1].set_ylabel(\"Number\")"
   ]
  },
  {
   "cell_type": "code",
   "execution_count": null,
   "metadata": {
    "scrolled": false
   },
   "outputs": [],
   "source": [
    "fig, ax = plt.subplots(1, 2, figsize=(20, 5), dpi=400)\n",
    "\n",
    "ss.TDS.plt.plot(ss.Bus.v, a=(8),\n",
    "                ax=ax[0], fig=fig,\n",
    "                legend=False, show=False,\n",
    "                title='Load bus voltage',\n",
    "                ylabel='Voltage [p.u.]')\n",
    "\n",
    "ss.TDS.plt.plot(ss.GENCLS.omega,\n",
    "                ax=ax[1], fig=fig,\n",
    "                legend=False, show=False,\n",
    "                ytimes=ss.config.freq,\n",
    "                title='Generator omega',\n",
    "                ylabel='Frequency [Hz]')"
   ]
  },
  {
   "cell_type": "code",
   "execution_count": null,
   "metadata": {},
   "outputs": [],
   "source": [
    "crl"
   ]
  },
  {
   "cell_type": "code",
   "execution_count": null,
   "metadata": {},
   "outputs": [],
   "source": [
    "plt.plot(range(len(crl)), crl)\n",
    "plt.title(\"Counter\")\n",
    "plt.xlabel(\"Seqence\")"
   ]
  },
  {
   "cell_type": "code",
   "execution_count": null,
   "metadata": {},
   "outputs": [],
   "source": [
    "fig, ax = plt.subplots(1, 2, figsize=(20, 5), dpi=400)\n",
    "\n",
    "# ax[2].scatter(x=np.array(tl), y=np.array(fsl))\n",
    "ax[0].plot(np.array(tl) - tl[0], np.array(fsl))\n",
    "# ax[2].set_xlim([0, len(asl)])\n",
    "ax[0].set_xlim([0, len(crl) * t_step])\n",
    "ax[0].set_title(\"Freq. send\")\n",
    "ax[0].set_ylabel(\"p.u.\")\n",
    "ax[0].set_xlabel(\"Time [s]\")\n",
    "\n",
    "ax[1].plot(np.array(tl) - tl[0], np.array(vsl))\n",
    "# ax[2].set_xlim([0, len(asl)])\n",
    "ax[1].set_xlim([0, len(crl) * t_step])\n",
    "ax[1].set_title(\"Volt. send\")\n",
    "ax[1].set_ylabel(\"p.u.\")\n",
    "ax[1].set_xlabel(\"Time [s]\")"
   ]
  },
  {
   "cell_type": "code",
   "execution_count": null,
   "metadata": {},
   "outputs": [],
   "source": [
    "fig, ax = plt.subplots(1, 2, figsize=(20, 5), dpi=400)\n",
    "\n",
    "# ax[2].scatter(x=np.array(tl), y=np.array(fsl))\n",
    "ax[0].plot(np.array(tl) - tl[0], np.array(prl))\n",
    "# ax[2].set_xlim([0, len(asl)])\n",
    "ax[0].set_xlim([0, len(crl) * t_step])\n",
    "ax[0].set_title(\"P read\")\n",
    "ax[0].set_ylabel(\"p.u.\")\n",
    "ax[0].set_xlabel(\"Time [s]\")\n",
    "\n",
    "\n",
    "ax[1].plot(np.array(tl) - tl[0], np.array(qrl))\n",
    "# ax[2].set_xlim([0, len(asl)])\n",
    "ax[1].set_xlim([0, len(crl) * t_step])\n",
    "ax[1].set_title(\"Q read\")\n",
    "ax[1].set_ylabel(\"p.u.\")\n",
    "ax[1].set_xlabel(\"Time [s]\")"
   ]
  },
  {
   "cell_type": "code",
   "execution_count": null,
   "metadata": {},
   "outputs": [],
   "source": [
    "ss.dae.ts.y[:, ss.Bus.v.a[8]]"
   ]
  },
  {
   "cell_type": "code",
   "execution_count": null,
   "metadata": {},
   "outputs": [],
   "source": [
    "data1 = pd.DataFrame()\n",
    "data1['fs'] = fsl\n",
    "data1['vs'] = vsl\n",
    "data1['pr'] = prl\n",
    "data1['qr'] = qrl\n",
    "\n",
    "data2 = pd.DataFrame()\n",
    "data2['busv'] = ss.dae.ts.y[:, ss.Bus.v.a[8]]\n",
    "data2['wg1'] = ss.dae.ts.x[:, ss.GENCLS.omega.a[0]]\n",
    "data2['wg2'] = ss.dae.ts.x[:, ss.GENCLS.omega.a[1]]\n",
    "data2['wg3'] = ss.dae.ts.x[:, ss.GENCLS.omega.a[2]]\n",
    "data2['wg4'] = ss.dae.ts.x[:, ss.GENCLS.omega.a[3]]\n",
    "data2['wg5'] = ss.dae.ts.x[:, ss.GENCLS.omega.a[4]]\n",
    "\n",
    "data1.to_csv('data1_2.csv', index=False)\n",
    "data2.to_csv('data2_2.csv', index=False)"
   ]
  }
 ],
 "metadata": {
  "kernelspec": {
   "display_name": "Python 3 (ipykernel)",
   "language": "python",
   "name": "python3"
  },
  "language_info": {
   "codemirror_mode": {
    "name": "ipython",
    "version": 3
   },
   "file_extension": ".py",
   "mimetype": "text/x-python",
   "name": "python",
   "nbconvert_exporter": "python",
   "pygments_lexer": "ipython3",
   "version": "3.8.16"
  },
  "vscode": {
   "interpreter": {
    "hash": "f53e6703cb84454da2467a3cefedfe3271c8645aec7dab61336c0047a343c6a3"
   }
  }
 },
 "nbformat": 4,
 "nbformat_minor": 2
}
