{
 "cells": [
  {
   "cell_type": "code",
   "execution_count": 1,
   "metadata": {},
   "outputs": [],
   "source": [
    "import andes\n",
    "andes.config_logger(30)\n",
    "\n",
    "import csv\n",
    "import time\n",
    "import numpy as np\n",
    "import matplotlib.pyplot as plt\n",
    "import pandas as pd"
   ]
  },
  {
   "cell_type": "code",
   "execution_count": 2,
   "metadata": {},
   "outputs": [
    {
     "data": {
      "text/plain": [
       "True"
      ]
     },
     "execution_count": 2,
     "metadata": {},
     "output_type": "execute_result"
    }
   ],
   "source": [
    "case1 = 'ieee14_htb.xlsx'\n",
    "case2 = 'pjm5_htb.xlsx'\n",
    "ss = andes.load(case1,\n",
    "                no_output=True,\n",
    "                default_config=False,\n",
    "                setup=False)\n",
    "ss.Toggler.u.v = [0, 0]\n",
    "bus_idx2 = 10\n",
    "ss.add('BusFreq', {'idx': 'BusFreq_2',\n",
    " 'name': 'BusFreq_2',\n",
    " 'bus': bus_idx2,\n",
    " 'Tf': 0.02,\n",
    " 'Tw': 0.02,\n",
    " 'fn': 60})\n",
    "\n",
    "# Note: case1 using 'GENROU_2', case2 using '2'\n",
    "# ss.add(\"Toggler\", dict(model='SynGen', dev=\"2\", t=5.0))\n",
    "ss.setup()\n",
    "\n",
    "ss.TDS.config.no_tqdm = 1\n",
    "ss.TDS.config.criteria = 0\n",
    "\n",
    "ss.PQ.config.p2p = 1\n",
    "ss.PQ.config.q2q = 1\n",
    "ss.PQ.config.p2z = 0\n",
    "ss.PQ.config.q2z = 0\n",
    "ss.PQ.pq2z = 0\n",
    "\n",
    "ss.PFlow.run()"
   ]
  },
  {
   "cell_type": "code",
   "execution_count": 3,
   "metadata": {
    "scrolled": true
   },
   "outputs": [
    {
     "name": "stdout",
     "output_type": "stream",
     "text": [
      "Ready\n",
      "LTB Start\n",
      "Counter update: count= 20\n",
      "Counter update: count= 40\n",
      "Counter update: count= 60\n",
      "Counter update: count= 80\n",
      "Counter update: count= 100\n",
      "Counter update: count= 120\n",
      "Counter update: count= 140\n",
      "Counter update: count= 160\n",
      "Counter update: count= 180\n",
      "count_base increase\n",
      "tloop0 1675205808.2105875\n",
      "Counter update: count= 20\n",
      "Counter update: count= 40\n",
      "Counter update: count= 60\n",
      "Counter update: count= 80\n",
      "Counter update: count= 100\n",
      "Counter update: count= 120\n",
      "Counter update: count= 140\n",
      "Counter update: count= 160\n",
      "Counter update: count= 180\n",
      "count_base increase\n",
      "tloop0 1675205808.2105875\n",
      "Counter update: count= 20\n",
      "Counter update: count= 40\n",
      "Counter update: count= 60\n",
      "Counter update: count= 80\n",
      "Counter update: count= 100\n",
      "Counter update: count= 120\n",
      "Counter update: count= 140\n",
      "Counter update: count= 160\n",
      "Counter update: count= 180\n",
      "count_base increase\n",
      "tloop0 1675205808.2105875\n"
     ]
    }
   ],
   "source": [
    "k_pu = 1e4  # scaler of p.u.\n",
    "\n",
    "def data_read(cb, pb, qb, show_info=True, k_pu=k_pu):\n",
    "    \"\"\"\n",
    "    cb: backup counter\n",
    "    pb: backup p\n",
    "    qb: backup q\n",
    "    \"\"\"\n",
    "    pass\n",
    "    try:\n",
    "        txtr = open(\"data record.txt\")\n",
    "        txtc = txtr.read()\n",
    "        txtr.close()\n",
    "        [count, p, q] = [int(i, 10) for i in txtc.split()]\n",
    "        # --- data conversion ---\n",
    "        p = p/k_pu - 2\n",
    "        q = q/k_pu - 2\n",
    "    except FileNotFoundError:\n",
    "        [count, p, q] = [cb, pb, qb]\n",
    "    except ValueError:\n",
    "        [count, p, q] = [cb, pb, qb]\n",
    "    if show_info: print(\"Data read, count=\", count) # show info\n",
    "    return [count, p, q], txtc\n",
    "\n",
    "def data_send(sdata, k_pu=k_pu):\n",
    "    # LTB: voltage, angle\n",
    "    scsv = open(\"data record2.txt\", \"w\")\n",
    "    writer = csv.writer(scsv)\n",
    "    writer.writerow([i*k_pu for i in sdata]) # DEBUG\n",
    "    scsv.close()\n",
    "    return True\n",
    "\n",
    "tf = 0.1  # first time end_time of LTB\n",
    "ss.TDS.config.tf = tf\n",
    "ss.TDS.run()\n",
    "\n",
    "t_step = 0.05  # LTB step time\n",
    "t_total = 100  # LTB total simulation time\n",
    "\n",
    "pq_idx = 'PQ_6'  # load represents for HTB\n",
    "bus_idx = ss.PQ.get(idx=pq_idx, src='bus', attr='v')  # load bus\n",
    "sbus_idx = ss.Slack.bus.v[0]  # slack bus\n",
    "a0 = ss.Bus.get(idx=sbus_idx, src='a', attr='v')       # initial slack bus angle\n",
    "p0 = ss.PQ.get(idx=pq_idx, src='p0', attr='v')\n",
    "q0 = ss.PQ.get(idx=pq_idx, src='q0', attr='v')\n",
    "ss.BusFreq.set(value=bus_idx, idx='BusFreq_1', src='bus', attr='v')  # Freq measure\n",
    "\n",
    "k = 2 * np.pi * ss.config.freq # constant to calculate bus angle\n",
    "start_time = time.time()  # LTB clock time\n",
    "\n",
    "tf0 = tf\n",
    "\n",
    "iter_max = 10000\n",
    "\n",
    "total_iter = 0\n",
    "lose_iter = 0\n",
    "count_base = 0\n",
    "count = -1\n",
    "data_in = False\n",
    "ltb_a = [] # LTB angle\n",
    "crl = [] # counter received\n",
    "csl = [] # counter sent\n",
    "fsl = [] # freq. send\n",
    "vsl = [] # volt. send\n",
    "prl = [] # P received\n",
    "qrl = [] # Q received\n",
    "ltb_r2 = []\n",
    "twl = []  # time to write\n",
    "trel = []  # read end time\n",
    "tl = []  # total time\n",
    "tsl = [] # time to run sim\n",
    "tssel = [] # sim end time\n",
    "tsa = 0\n",
    "tsal = [] # accumulated sim time\n",
    "tcl = [] # time to chase\n",
    "ds = []\n",
    "dr = []\n",
    "t0 = time.time() # start time\n",
    "tloop0 = -1 # start time in single loop\n",
    "count = -3\n",
    "p_read = 0\n",
    "q_read = 0\n",
    "count0 = -3\n",
    "countb = -4\n",
    "p0 = 0\n",
    "q0 = 0\n",
    "time_flag = True\n",
    "base_flag = True\n",
    "print(\"Ready\")\n",
    "# while tf <= t_total:\n",
    "while count_base < 3:\n",
    "    if len(crl) == 0:\n",
    "        while count != 11:\n",
    "            [count, p_read, q_read], txtc = data_read(cb=countb, pb=p0, qb=q0,\n",
    "                                                      show_info=False, k_pu=k_pu)\n",
    "            p0 = p_read\n",
    "            q0 = q_read\n",
    "        crl.append(count)\n",
    "        print(\"LTB Start\")\n",
    "    if count > 10:\n",
    "        if time_flag:\n",
    "            tloop0 = time.time()\n",
    "            time_flag = False\n",
    "        count0 = crl[-1]\n",
    "        [count, p_read, q_read], txtc = data_read(cb=countb, pb=p0, qb=q0,\n",
    "                                                  show_info=False, k_pu=k_pu)\n",
    "        p0 = p_read\n",
    "        q0 = q_read\n",
    "        n_iter = 0\n",
    "        # --- date read, waiting count update ---\n",
    "        while (count != count0 + 1) & (n_iter <= iter_max):\n",
    "            [count, p_read, q_read], txtc = data_read(cb=countb, pb=p0, qb=q0,\n",
    "                                                      show_info=False, k_pu=k_pu)\n",
    "            p0 = p_read\n",
    "            q0 = q_read\n",
    "            # reset count\n",
    "            if base_flag & (count == 199):\n",
    "                count0 = 10\n",
    "                count_base += 1\n",
    "                base_flag = False\n",
    "                print('count_base increase')\n",
    "                print('tloop0', tloop0)\n",
    "                continue\n",
    "            n_iter += 1\n",
    "        # --- LTB sim, if data update ---\n",
    "        if (count == count0 + 1):\n",
    "            tre = time.time() - tloop0 # read end time, normalized by tloop0\n",
    "            base_flag = True\n",
    "            if np.mod(count, 20) == 0:\n",
    "                print(\"Counter update: count=\", count)\n",
    "            # --- send data to HTB ---\n",
    "            # Make sure `BusFreq` is connected to the load bus\n",
    "            f_send = ss.BusFreq.get(idx='BusFreq_2', src='f', attr='v')  # p.u.\n",
    "            v_bus = ss.Bus.get(idx=bus_idx, src='v', attr='v')  # RMS, p.u.\n",
    "            sdata = [v_bus, f_send]  # LTB: voltage, angle\n",
    "            data_send(sdata)\n",
    "            tse = time.time() # send end time\n",
    "            # --- LTB simulation ---\n",
    "            ks = 1 # laod switch\n",
    "            p_inj = ks * p_read\n",
    "            q_inj = ks * q_read\n",
    "            # a) set data in LTB\n",
    "            ss.PQ.set(value=p_inj + p0, idx=pq_idx, src='Ppf', attr='v')\n",
    "            ss.PQ.set(value=q_inj + q0, idx=pq_idx, src='Qpf', attr='v')\n",
    "            # b) TDS\n",
    "            tf += t_step\n",
    "            ss.TDS.config.tf = tf\n",
    "            ss.TDS.run()\n",
    "            tsse = time.time()  # sim end time\n",
    "            t_sim = tsse - tre  # sim consumed time\n",
    "            tsa += t_sim\n",
    "            t_chase = tsse - tloop0  # total consumed time\n",
    "            t_send = tse - tre  # send consumed time\n",
    "            t_read = tre - tloop0  # read consumed time\n",
    "            tt = tsse - tloop0 - (tf - 0.1 - t_step) # total time\n",
    "            if tsse - tloop0 > tf - 0.1:\n",
    "                lose_iter += 1\n",
    "            total_iter += 1\n",
    "            #  --- record data ---\n",
    "            prl.append(p_read)\n",
    "            qrl.append(q_read)\n",
    "            crl.append(count)\n",
    "            csl.append(count)\n",
    "            fsl.append(f_send)\n",
    "            vsl.append(v_bus)\n",
    "            ltb_a.append(sdata[1])\n",
    "            tsl.append(t_sim)\n",
    "            tssel.append(tsse)\n",
    "            twl.append(t_send)\n",
    "            trel.append(tre)\n",
    "            tcl.append(t_chase)\n",
    "            tl.append(tt)\n",
    "#         else:\n",
    "#             print(\"Read abort with error\")\n",
    "#             break # DEBUG\n",
    "#             [count, p_read, q_read] = data_read(show_info=False)\n",
    "#             print(\"count=\", count)\n",
    "# print(f\"Iter: total={total_iter}, lose={lose_iter}\")\n",
    "# print(r\"loss rate=%.2f\" %((lose_iter / total_iter)*100),\"%\")"
   ]
  },
  {
   "cell_type": "code",
   "execution_count": 4,
   "metadata": {},
   "outputs": [
    {
     "name": "stdout",
     "output_type": "stream",
     "text": [
      "lose_iter=552, total_iter=564\n"
     ]
    }
   ],
   "source": [
    "print(f\"lose_iter={lose_iter}, total_iter={total_iter}\")"
   ]
  },
  {
   "cell_type": "code",
   "execution_count": 8,
   "metadata": {},
   "outputs": [
    {
     "data": {
      "text/plain": [
       "(-0.01, 0.06)"
      ]
     },
     "execution_count": 8,
     "metadata": {},
     "output_type": "execute_result"
    },
    {
     "data": {
      "image/png": "[encoded data removed]",
      "text/plain": [
       "<Figure size 2000x800 with 2 Axes>"
      ]
     },
     "metadata": {
      "needs_background": "light"
     },
     "output_type": "display_data"
    }
   ],
   "source": [
    "fig, ax = plt.subplots(1, 2, figsize=(20, 8), dpi=100)\n",
    "ax[0].scatter(x=range(len(tl)), y=tl)\n",
    "ax[0].set_ylim([-0.01, 0.06])"
   ]
  },
  {
   "cell_type": "code",
   "execution_count": 6,
   "metadata": {},
   "outputs": [
    {
     "ename": "NameError",
     "evalue": "name 'trl' is not defined",
     "output_type": "error",
     "traceback": [
      "\u001b[1;31m---------------------------------------------------------------------------\u001b[0m",
      "\u001b[1;31mNameError\u001b[0m                                 Traceback (most recent call last)",
      "Input \u001b[1;32mIn [6]\u001b[0m, in \u001b[0;36m<cell line: 2>\u001b[1;34m()\u001b[0m\n\u001b[0;32m      1\u001b[0m fig, ax \u001b[38;5;241m=\u001b[39m plt\u001b[38;5;241m.\u001b[39msubplots(\u001b[38;5;241m1\u001b[39m, \u001b[38;5;241m2\u001b[39m, figsize\u001b[38;5;241m=\u001b[39m(\u001b[38;5;241m20\u001b[39m, \u001b[38;5;241m8\u001b[39m), dpi\u001b[38;5;241m=\u001b[39m\u001b[38;5;241m100\u001b[39m)\n\u001b[1;32m----> 2\u001b[0m ax[\u001b[38;5;241m0\u001b[39m]\u001b[38;5;241m.\u001b[39mscatter(x\u001b[38;5;241m=\u001b[39m\u001b[38;5;28mrange\u001b[39m(\u001b[38;5;28mlen\u001b[39m(tcl)), y\u001b[38;5;241m=\u001b[39m\u001b[43mtrl\u001b[49m)\n\u001b[0;32m      3\u001b[0m ax[\u001b[38;5;241m0\u001b[39m]\u001b[38;5;241m.\u001b[39mscatter(x\u001b[38;5;241m=\u001b[39m\u001b[38;5;28mrange\u001b[39m(\u001b[38;5;28mlen\u001b[39m(tcl)), y\u001b[38;5;241m=\u001b[39mtwl)\n\u001b[0;32m      4\u001b[0m ax[\u001b[38;5;241m0\u001b[39m]\u001b[38;5;241m.\u001b[39mscatter(x\u001b[38;5;241m=\u001b[39m\u001b[38;5;28mrange\u001b[39m(\u001b[38;5;28mlen\u001b[39m(tcl)), y\u001b[38;5;241m=\u001b[39mtsl)\n",
      "\u001b[1;31mNameError\u001b[0m: name 'trl' is not defined"
     ]
    },
    {
     "data": {
      "image/png": "[encoded data removed]",
      "text/plain": [
       "<Figure size 2000x800 with 2 Axes>"
      ]
     },
     "metadata": {
      "needs_background": "light"
     },
     "output_type": "display_data"
    }
   ],
   "source": [
    "fig, ax = plt.subplots(1, 2, figsize=(20, 8), dpi=100)\n",
    "ax[0].scatter(x=range(len(tcl)), y=trl)\n",
    "ax[0].scatter(x=range(len(tcl)), y=twl)\n",
    "ax[0].scatter(x=range(len(tcl)), y=tsl)\n",
    "ax[0].scatter(x=range(len(tcl)), y=tcl)\n",
    "ax[0].legend(['Read', 'Write', 'Sim', 'Total'])\n",
    "ax[0].axhline(t_step, color='tab:red')\n",
    "ax[0].set_xlim([0, len(tcl)])\n",
    "ax[0].set_title(\"Data read time interval\")\n",
    "ax[0].set_ylabel(\"Time [s]\")\n",
    "ax[0].set_ylim([-0.05, 0.12])\n",
    "\n",
    "ax[1].scatter(x=range(len(crl)), y=crl)\n",
    "ax[1].set_xlim([0, len(crl)])\n",
    "ax[1].set_title(\"Read counter\")\n",
    "ax[1].set_ylabel(\"Number\")"
   ]
  },
  {
   "cell_type": "code",
   "execution_count": null,
   "metadata": {
    "scrolled": false
   },
   "outputs": [],
   "source": [
    "fig, ax = plt.subplots(1, 2, figsize=(20, 5), dpi=400)\n",
    "\n",
    "ss.TDS.plt.plot(ss.Bus.v, a=(8),\n",
    "                ax=ax[0], fig=fig,\n",
    "                legend=False, show=False,\n",
    "                title='Load bus voltage',\n",
    "                ylabel='Voltage [p.u.]')\n",
    "\n",
    "ss.TDS.plt.plot(ss.GENCLS.omega,\n",
    "                ax=ax[1], fig=fig,\n",
    "                legend=False, show=False,\n",
    "                ytimes=ss.config.freq,\n",
    "                title='Generator omega',\n",
    "                ylabel='Frequency [Hz]')"
   ]
  },
  {
   "cell_type": "code",
   "execution_count": null,
   "metadata": {},
   "outputs": [],
   "source": [
    "crl"
   ]
  },
  {
   "cell_type": "code",
   "execution_count": null,
   "metadata": {},
   "outputs": [],
   "source": [
    "plt.plot(range(len(crl)), crl)\n",
    "plt.title(\"Counter\")\n",
    "plt.xlabel(\"Seqence\")"
   ]
  },
  {
   "cell_type": "code",
   "execution_count": null,
   "metadata": {},
   "outputs": [],
   "source": [
    "fig, ax = plt.subplots(1, 2, figsize=(20, 5), dpi=400)\n",
    "\n",
    "# ax[2].scatter(x=np.array(tl), y=np.array(fsl))\n",
    "ax[0].plot(np.array(tl) - tl[0], np.array(fsl))\n",
    "# ax[2].set_xlim([0, len(asl)])\n",
    "ax[0].set_xlim([0, len(crl) * t_step])\n",
    "ax[0].set_title(\"Freq. send\")\n",
    "ax[0].set_ylabel(\"p.u.\")\n",
    "ax[0].set_xlabel(\"Time [s]\")\n",
    "\n",
    "ax[1].plot(np.array(tl) - tl[0], np.array(vsl))\n",
    "# ax[2].set_xlim([0, len(asl)])\n",
    "ax[1].set_xlim([0, len(crl) * t_step])\n",
    "ax[1].set_title(\"Volt. send\")\n",
    "ax[1].set_ylabel(\"p.u.\")\n",
    "ax[1].set_xlabel(\"Time [s]\")"
   ]
  },
  {
   "cell_type": "code",
   "execution_count": null,
   "metadata": {},
   "outputs": [],
   "source": [
    "fig, ax = plt.subplots(1, 2, figsize=(20, 5), dpi=400)\n",
    "\n",
    "# ax[2].scatter(x=np.array(tl), y=np.array(fsl))\n",
    "ax[0].plot(np.array(tl) - tl[0], np.array(prl))\n",
    "# ax[2].set_xlim([0, len(asl)])\n",
    "ax[0].set_xlim([0, len(crl) * t_step])\n",
    "ax[0].set_title(\"P read\")\n",
    "ax[0].set_ylabel(\"p.u.\")\n",
    "ax[0].set_xlabel(\"Time [s]\")\n",
    "\n",
    "\n",
    "ax[1].plot(np.array(tl) - tl[0], np.array(qrl))\n",
    "# ax[2].set_xlim([0, len(asl)])\n",
    "ax[1].set_xlim([0, len(crl) * t_step])\n",
    "ax[1].set_title(\"Q read\")\n",
    "ax[1].set_ylabel(\"p.u.\")\n",
    "ax[1].set_xlabel(\"Time [s]\")"
   ]
  },
  {
   "cell_type": "code",
   "execution_count": null,
   "metadata": {},
   "outputs": [],
   "source": [
    "ss.dae.ts.y[:, ss.Bus.v.a[8]]"
   ]
  },
  {
   "cell_type": "code",
   "execution_count": null,
   "metadata": {},
   "outputs": [],
   "source": [
    "data1 = pd.DataFrame()\n",
    "data1['fs'] = fsl\n",
    "data1['vs'] = vsl\n",
    "data1['pr'] = prl\n",
    "data1['qr'] = qrl\n",
    "\n",
    "data2 = pd.DataFrame()\n",
    "data2['busv'] = ss.dae.ts.y[:, ss.Bus.v.a[8]]\n",
    "data2['wg1'] = ss.dae.ts.x[:, ss.GENCLS.omega.a[0]]\n",
    "data2['wg2'] = ss.dae.ts.x[:, ss.GENCLS.omega.a[1]]\n",
    "data2['wg3'] = ss.dae.ts.x[:, ss.GENCLS.omega.a[2]]\n",
    "data2['wg4'] = ss.dae.ts.x[:, ss.GENCLS.omega.a[3]]\n",
    "data2['wg5'] = ss.dae.ts.x[:, ss.GENCLS.omega.a[4]]\n",
    "\n",
    "data1.to_csv('data1_2.csv', index=False)\n",
    "data2.to_csv('data2_2.csv', index=False)"
   ]
  }
 ],
 "metadata": {
  "kernelspec": {
   "display_name": "Python 3 (ipykernel)",
   "language": "python",
   "name": "python3"
  },
  "language_info": {
   "codemirror_mode": {
    "name": "ipython",
    "version": 3
   },
   "file_extension": ".py",
   "mimetype": "text/x-python",
   "name": "python",
   "nbconvert_exporter": "python",
   "pygments_lexer": "ipython3",
   "version": "3.9.13 | packaged by conda-forge | (main, May 27 2022, 16:58:50) \n[GCC 10.3.0]"
  },
  "vscode": {
   "interpreter": {
    "hash": "a33fa296fbacb8644bc9195ef2d759981fef097b4feb655e1da77ca7517b39c3"
   }
  }
 },
 "nbformat": 4,
 "nbformat_minor": 2
}
